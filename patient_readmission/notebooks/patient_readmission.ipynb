{
 "cells": [
  {
   "cell_type": "markdown",
   "id": "4a1c8792",
   "metadata": {},
   "source": [
    "# Hospital Readmissions Prediction"
   ]
  },
  {
   "cell_type": "markdown",
   "id": "4bd73828",
   "metadata": {},
   "source": [
    "Diabetes, which is at the forefront of diseases of the age, is a disease that plays a leading role in the formation of many deadly diseases and is very common all over the world.\n",
    "\n",
    "It is important to know whether a patient can be readmitted in a hospital. In this project, we tried predict whether diabetes patients will return to the hospital or not by using machine learning algorithms."
   ]
  },
  {
   "cell_type": "markdown",
   "id": "913115ea",
   "metadata": {},
   "source": [
    "# Content\n",
    "\n",
    "The data set represents 10 years (1999-2008) of clinical care at 130 US hospitals and integrated delivery networks.\n",
    "\n",
    "The following steps were followed in this project;\n",
    "<ol>\n",
    "    <li><a href='#1'>Exploratory Data Analysis</a></li>\n",
    "    <li><a href='#2'>Visualization</a></li>\n",
    "    <li><a href='#3'>Feature Engineering</a></li>\n",
    "        <ul>     \n",
    "         <li>Missing Value Handling</li>\n",
    "         <li>Outlier Handling</li>\n",
    "         <li>Encoding</li>\n",
    "        </ul>\n",
    "    <li><a href='#4'>Splitting Train-Validation-Test</a></li>\n",
    "    <li><a href='#5'>Modelling</a></li>\n",
    "        <ul>     \n",
    "         <li> Logistic Regression</li>\n",
    "         <li> Random Forest Classifier</li>\n",
    "         <li> GradientBoosting Classifier</li>\n",
    "         <li> XGboost Classifier</li>\n",
    "         <li> Light-GBM Classifier</li>\n",
    "         <li> CatBoost Classifier</li>\n",
    "        </ul>\n",
    "    <li><a href='#6'>Feature Importance</a></li>\n",
    "    <li><a href='#7'>Hyperparameter Tuning</a></li>\n",
    "    <li><a href='#8'>Predict Results</a></li>\n",
    "    <li><a href='#9'>Conclusion</a></li>\n",
    "    <li><a href='#10'>References</a></li>\n",
    "</ol>"
   ]
  },
  {
   "cell_type": "markdown",
   "id": "6963f7b2",
   "metadata": {},
   "source": [
    "# <a id=\"1\"></a> 1. Exploratory Data Analysis\n",
    "\n",
    "## Importing Libraries"
   ]
  },
  {
   "cell_type": "code",
   "execution_count": null,
   "id": "5bef10e3",
   "metadata": {},
   "outputs": [],
   "source": [
    "import numpy as np\n",
    "import pandas as pd\n",
    "\n",
    "# Visualization\n",
    "import missingno as msno\n",
    "import seaborn as sns\n",
    "import matplotlib.pyplot as plt\n",
    "import plotly.express as px\n",
    "\n",
    "# Metrics\n",
    "from sklearn.preprocessing import StandardScaler\n",
    "from sklearn.preprocessing import LabelEncoder\n",
    "from sklearn.preprocessing import OrdinalEncoder\n",
    "from sklearn.neighbors import LocalOutlierFactor\n",
    "from sklearn.model_selection import train_test_split, GridSearchCV, cross_val_score\n",
    "from sklearn.metrics import confusion_matrix, accuracy_score,f1_score,recall_score,mean_squared_error, r2_score, roc_auc_score, roc_curve, classification_report\n",
    "from sklearn.metrics import classification_report\n",
    "import sklearn.metrics as metrics\n",
    "from sklearn.metrics import precision_recall_fscore_support\n",
    "\n",
    "# Models\n",
    "from sklearn.linear_model import LogisticRegression\n",
    "from sklearn.linear_model import SGDClassifier\n",
    "from sklearn.neighbors import KNeighborsClassifier\n",
    "from sklearn.svm import SVC\n",
    "from sklearn.neural_network import MLPClassifier\n",
    "from sklearn.tree import DecisionTreeClassifier\n",
    "from sklearn.ensemble import RandomForestClassifier\n",
    "from sklearn.ensemble import GradientBoostingClassifier\n",
    "from xgboost import XGBClassifier\n",
    "# !pip install catboost\n",
    "from catboost import CatBoostClassifier\n",
    "from lightgbm import LGBMClassifier"
   ]
  },
  {
   "cell_type": "code",
   "execution_count": null,
   "id": "1708110d",
   "metadata": {},
   "outputs": [],
   "source": [
    "import warnings\n",
    "warnings.filterwarnings(\"ignore\", category=DeprecationWarning)\n",
    "warnings.filterwarnings(\"ignore\", category=FutureWarning)"
   ]
  },
  {
   "cell_type": "markdown",
   "id": "45d5383f",
   "metadata": {},
   "source": [
    "## Loading Data"
   ]
  },
  {
   "cell_type": "code",
   "execution_count": null,
   "id": "563438f7",
   "metadata": {},
   "outputs": [],
   "source": [
    "data = pd.read_csv(\"../input/diabetes/diabetic_data.csv\")\n",
    "def display_all(data):\n",
    "    with pd.option_context(\"display.max_row\", 100, \"display.max_columns\", 100):\n",
    "        display(data)\n",
    "display_all(data.head())"
   ]
  },
  {
   "cell_type": "markdown",
   "id": "adbfc6ba",
   "metadata": {},
   "source": [
    "## Variable Description\n",
    "\n",
    "<span style='font-weight:bold;color:#561225'>Encounter ID:</span> Unique identifier of an encounter\n",
    "    \n",
    "<span style='font-weight:bold;color:#561225'>Patient number:</span> Unique identifier of a patient\n",
    "    \n",
    "<span style='font-weight:bold;color:#561225'>Race Values:</span> Caucasian, Asian, African American, Hispanic, and other\n",
    "    \n",
    "<span style='font-weight:bold;color:#561225'>Gender Values:</span> male, female, and unknown/invalid\n",
    "    \n",
    "<span style='font-weight:bold;color:#561225'>Age:</span> Grouped in 10-year intervals: 0, 10), 10, 20), …, 90, 100)\n",
    "   \n",
    "<span style='font-weight:bold;color:#561225'>Weight:</span> Weight in pounds\n",
    "  \n",
    "<span style='font-weight:bold;color:#561225'>Admission type:</span> Integer identifier corresponding to 9 distinct values, for example, emergency, urgent, elective, newborn, and not available\n",
    "\n",
    "<span style='font-weight:bold;color:#561225'>Discharge disposition:</span> Integer identifier corresponding to 29 distinct values, for example, discharged to home, expired, and not available\n",
    "\n",
    "<span style='font-weight:bold;color:#561225'>Admission source:</span> Integer identifier corresponding to 21 distinct values, for example, physician referral, emergency room, and transfer from a hospital\n",
    "\n",
    "<span style='font-weight:bold;color:#561225'>Time in hospital:</span> Integer number of days between admission and discharge\n",
    "\n",
    "<span style='font-weight:bold;color:#561225'>Payer code :</span> Integer identifier corresponding to 23 distinct values, for example, Blue Cross/Blue Shield, Medicare, and self-pay Medical\n",
    "\n",
    "<span style='font-weight:bold;color:#561225'>Medical specialty:</span> Integer identifier of a specialty of the admitting physician, corresponding to 84 distinct values, for example, cardiology, internal medicine, family/general practice, and surgeon\n",
    "\n",
    "<span style='font-weight:bold;color:#561225'>Number of lab procedures:</span> Number of lab tests performed during the encounter\n",
    "\n",
    "<span style='font-weight:bold;color:#561225'>Number of procedures:</span> Numeric Number of procedures (other than lab tests) performed during the encounter\n",
    "\n",
    "<span style='font-weight:bold;color:#561225'>Number of medications:</span> Number of distinct generic names administered during the encounter\n",
    "\n",
    "<span style='font-weight:bold;color:#561225'>Number of outpatient visits:</span> Number of outpatient visits of the patient in the year preceding the encounter\n",
    "\n",
    "<span style='font-weight:bold;color:#561225'>Number of emergency visits:</span> Number of emergency visits of the patient in the year preceding the encounter\n",
    "\n",
    "<span style='font-weight:bold;color:#561225'>Number of inpatient visits:</span> Number of inpatient visits of the patient in the year preceding the encounter\n",
    "\n",
    "<span style='font-weight:bold;color:#561225'>Diagnosis 1:</span> The primary diagnosis (coded as first three digits of ICD9); 848 distinct values\n",
    "\n",
    "<span style='font-weight:bold;color:#561225'>Diagnosis 2:</span> Secondary diagnosis (coded as first three digits of ICD9); 923 distinct values\n",
    "\n",
    "<span style='font-weight:bold;color:#561225'>Diagnosis 3:</span> Additional secondary diagnosis (coded as first three digits of ICD9); 954 distinct values\n",
    "\n",
    "<span style='font-weight:bold;color:#561225'>Number of diagnoses :</span> Number of diagnoses entered to the system 0%\n",
    "\n",
    "<span style='font-weight:bold;color:#561225'>Glucose serum test :</span> result Indicates the range of the result or if the test was not taken. Values: “>200,” “>300,” “normal,” and “none” if not measured\n",
    "\n",
    "<span style='font-weight:bold;color:#561225'>A1c test result :</span> Indicates the range of the result or if the test was not taken. Values: “>8” if the result was greater than 8%, “>7” if the result was greater than 7% but less than 8%, “normal” if the result was less than 7%, and “none” if not measured.\n",
    "\n",
    "<span style='font-weight:bold;color:#561225'>Change of medications :</span> Indicates if there was a change in diabetic medications (either dosage or generic name). Values: “change” and “no change”\n",
    "\n",
    "<span style='font-weight:bold;color:#561225'>Diabetes medications :</span> Indicates if there was any diabetic medication prescribed. Values: “yes” and “no” 24 features for medications For the generic names: <span style='font-weight:bold'>metformin, repaglinide, nateglinide, chlorpropamide, glimepiride, acetohexamide, glipizide, glyburide, tolbutamide, pioglitazone, rosiglitazone, acarbose, miglitol, troglitazone, tolazamide, examide, sitagliptin, insulin, glyburide-metformin, glipizide-metformin, glimepiride- pioglitazone, metformin-rosiglitazone, and metformin- pioglitazone, </span> the feature indicates whether the drug was prescribed or there was a change in the dosage. Values: “up” if the dosage was increased during the encounter, “down” if the dosage was decreased, “steady” if the dosage did not change, and “no” if the drug was not prescribed\n",
    "\n",
    "<span style='font-weight:bold;color:#123456'>Readmitted:</span> Days to inpatient readmission. Values: “<30” if the patient was readmitted in less than 30 days, “>30” if the patient was readmitted in more than 30 days, and “No” for no record of readmission"
   ]
  },
  {
   "cell_type": "code",
   "execution_count": null,
   "id": "dba8ce08",
   "metadata": {},
   "outputs": [],
   "source": [
    "data.shape"
   ]
  },
  {
   "cell_type": "code",
   "execution_count": null,
   "id": "f6553d59",
   "metadata": {},
   "outputs": [],
   "source": [
    "data.info()"
   ]
  },
  {
   "cell_type": "code",
   "execution_count": null,
   "id": "c5320518",
   "metadata": {},
   "outputs": [],
   "source": [
    "data.describe().T"
   ]
  },
  {
   "cell_type": "code",
   "execution_count": null,
   "id": "17c79785",
   "metadata": {},
   "outputs": [],
   "source": [
    "IDs_mapping = pd.read_csv(\"../input/id-mapping/IDs_mapping.csv\")\n",
    "\n",
    "display_all(IDs_mapping.head(67))"
   ]
  },
  {
   "cell_type": "markdown",
   "id": "e2b2c60e",
   "metadata": {},
   "source": [
    "## Target Distribution (Readmitted)"
   ]
  },
  {
   "cell_type": "markdown",
   "id": "bd71d4f9",
   "metadata": {},
   "source": [
    "Target content changed to 1-0\n",
    "\n",
    "The outcome we are looking at is whether the patient gets readmitted to the hospital within 30 days or not.\n",
    "\n",
    "The variable actually has <30, >30 and No Readmission categories. To reduce our problem to a binary classification, we combined the readmission after 30 days and no readmission into a single category:\n",
    "\n",
    "NO and >30: 0 <br>\n",
    "<30 : 1"
   ]
  },
  {
   "cell_type": "code",
   "execution_count": null,
   "id": "097a99a6",
   "metadata": {},
   "outputs": [],
   "source": [
    "data.readmitted = [1 if each=='<30' else 0 for each in data.readmitted]"
   ]
  },
  {
   "cell_type": "code",
   "execution_count": null,
   "id": "a7986c3b",
   "metadata": {},
   "outputs": [],
   "source": [
    "fig, ax =plt.subplots(nrows=1,ncols=2, figsize=(12,5))\n",
    "labels=['0','1']\n",
    "sns.countplot(x=data.readmitted, data=data, palette=\"pastel\",ax=ax[0], edgecolor=\".3\")\n",
    "data.readmitted.value_counts().plot.pie(autopct=\"%1.2f%%\", ax=ax[1], colors=['#66a3ff','#facc99'],\n",
    "                                        labels=labels, explode = (0, 0.05), startangle=120,\n",
    "                                        textprops={'fontsize': 12, 'color':'#0a0a00'})\n",
    "plt.show()"
   ]
  },
  {
   "cell_type": "code",
   "execution_count": null,
   "id": "1e411602",
   "metadata": {},
   "outputs": [],
   "source": [
    "data.replace('?', np.nan , inplace=True)"
   ]
  },
  {
   "cell_type": "markdown",
   "id": "371592b9",
   "metadata": {},
   "source": [
    "## Information about Missing values"
   ]
  },
  {
   "cell_type": "code",
   "execution_count": null,
   "id": "daecb0e2",
   "metadata": {},
   "outputs": [],
   "source": [
    "msno.matrix(data)\n",
    "plt.show()"
   ]
  },
  {
   "cell_type": "code",
   "execution_count": null,
   "id": "5434c323",
   "metadata": {},
   "outputs": [],
   "source": [
    "msno.bar(data,sort='descending',color='#66a9bc')\n",
    "plt.show()"
   ]
  },
  {
   "cell_type": "markdown",
   "id": "edbf989a",
   "metadata": {},
   "source": [
    "## Representation of missing values, unique values, etc."
   ]
  },
  {
   "cell_type": "code",
   "execution_count": null,
   "id": "d8f0ac3d",
   "metadata": {},
   "outputs": [],
   "source": [
    "def Missing_Values(data):\n",
    "    variable_name = []\n",
    "    total_value = []\n",
    "    total_missing_value = []\n",
    "    missing_value_rate = []\n",
    "    unique_value_list = []\n",
    "    total_unique_value = []\n",
    "    data_type = []\n",
    "\n",
    "    for col in data.columns:\n",
    "        variable_name.append(col)\n",
    "        data_type.append(data[col].dtype)\n",
    "        total_value.append(data[col].shape[0])\n",
    "        total_missing_value.append(data[col].isnull().sum())\n",
    "        missing_value_rate.append(round(data[col].isnull().sum()/data[col].shape[0],4))\n",
    "        unique_value_list.append(data[col].unique())\n",
    "        total_unique_value.append(len(data[col].unique()))\n",
    "\n",
    "    missing_data=pd.DataFrame({\"Variable\":variable_name,\\\n",
    "                               \"#_Total_Value\":total_value,\\\n",
    "                               \"#_Total_Missing_Value\":total_missing_value,\\\n",
    "                               \"%_Missing_Value_Rate\":missing_value_rate,\\\n",
    "                               \"Data_Type\":data_type,\"Unique_Value\":unique_value_list,\\\n",
    "                               \"Total_Unique_Value\":total_unique_value\n",
    "                              })\n",
    "\n",
    "    missing_data = missing_data.set_index(\"Variable\")\n",
    "    return missing_data.sort_values(\"#_Total_Missing_Value\",ascending=False)"
   ]
  },
  {
   "cell_type": "code",
   "execution_count": null,
   "id": "45f9ccd0",
   "metadata": {},
   "outputs": [],
   "source": [
    "data_info = Missing_Values(data)\n",
    "data_info"
   ]
  },
  {
   "cell_type": "markdown",
   "id": "bbc28a97",
   "metadata": {},
   "source": [
    "## Types of data measurement scales"
   ]
  },
  {
   "cell_type": "code",
   "execution_count": null,
   "id": "f058fd6c",
   "metadata": {},
   "outputs": [],
   "source": [
    "data_dictionary = pd.read_csv('../input/dataset/var.csv', sep=';')\n",
    "data_dictionary = data_dictionary.set_index(\"variable_name\")\n",
    "data_dictionary.head()"
   ]
  },
  {
   "cell_type": "code",
   "execution_count": null,
   "id": "1648528e",
   "metadata": {},
   "outputs": [],
   "source": [
    "data_info['Variable_Structure'] = np.array(data_dictionary[\"Variable_Structure\"])\n",
    "data_info"
   ]
  },
  {
   "cell_type": "markdown",
   "id": "4a232940",
   "metadata": {},
   "source": [
    "Columns that would not give information were removed"
   ]
  },
  {
   "cell_type": "code",
   "execution_count": null,
   "id": "fb3d2ed3",
   "metadata": {},
   "outputs": [],
   "source": [
    "drop_list = ['examide' , 'citoglipton', 'weight','encounter_id','patient_nbr','payer_code','medical_specialty']\n",
    "data.drop(drop_list,axis=1, inplace=True)\n",
    "data_info.drop(drop_list, axis=0,inplace=True)"
   ]
  },
  {
   "cell_type": "markdown",
   "id": "d59c7a94",
   "metadata": {},
   "source": [
    "## Determination of numerical columns:"
   ]
  },
  {
   "cell_type": "code",
   "execution_count": null,
   "id": "dea0bc07",
   "metadata": {},
   "outputs": [],
   "source": [
    "numerical_columns = list(data_info.loc[(data_info.loc[:,\"Variable_Structure\"]==\"numeric\")].index)\n",
    "len(numerical_columns), numerical_columns"
   ]
  },
  {
   "cell_type": "markdown",
   "id": "6abb070d",
   "metadata": {},
   "source": [
    "## Determination of categorical columns:"
   ]
  },
  {
   "cell_type": "code",
   "execution_count": null,
   "id": "2609a848",
   "metadata": {},
   "outputs": [],
   "source": [
    "categorical_columns = list(data_info.loc[(data_info.loc[:,\"Variable_Structure\"]==\"nominal\")].index)\n",
    "len(categorical_columns), categorical_columns"
   ]
  },
  {
   "cell_type": "markdown",
   "id": "b590d1f5",
   "metadata": {},
   "source": [
    "# <a id=\"2\"></a>2. Visualization"
   ]
  },
  {
   "cell_type": "markdown",
   "id": "aa0130f3",
   "metadata": {},
   "source": [
    "## Outlier Visualization With BoxPlot:"
   ]
  },
  {
   "cell_type": "code",
   "execution_count": null,
   "id": "a1d2b843",
   "metadata": {},
   "outputs": [],
   "source": [
    "def boxplot_for_outlier(df,columns):\n",
    "    count = 0\n",
    "    fig, ax =plt.subplots(nrows=2,ncols=4, figsize=(16,8))\n",
    "    for i in range(2):\n",
    "        for j in range(4):\n",
    "            sns.boxplot(x = df[columns[count]], palette=\"Wistia\",ax=ax[i][j])\n",
    "            count = count+1"
   ]
  },
  {
   "cell_type": "code",
   "execution_count": null,
   "id": "b48dbd8b",
   "metadata": {},
   "outputs": [],
   "source": [
    "boxplot_for_outlier(data,numerical_columns)"
   ]
  },
  {
   "cell_type": "code",
   "execution_count": null,
   "id": "b07b89fc",
   "metadata": {},
   "outputs": [],
   "source": [
    "f,ax = plt.subplots(figsize=(8, 6))\n",
    "sns.heatmap(data[numerical_columns].corr(), annot=True, linewidths=0.5,linecolor=\"black\", fmt= '.2f',ax=ax,cmap=\"coolwarm\")\n",
    "plt.show()"
   ]
  },
  {
   "cell_type": "markdown",
   "id": "d61bc871",
   "metadata": {},
   "source": [
    "## Gender Distribution"
   ]
  },
  {
   "cell_type": "code",
   "execution_count": null,
   "id": "fe0f3cf1",
   "metadata": {},
   "outputs": [],
   "source": [
    "data.gender.replace('Unknown/Invalid', np.nan , inplace=True)\n",
    "data.dropna(subset=['gender'], how='all', inplace = True)"
   ]
  },
  {
   "cell_type": "code",
   "execution_count": null,
   "id": "1b85308f",
   "metadata": {},
   "outputs": [],
   "source": [
    "data.gender.value_counts()"
   ]
  },
  {
   "cell_type": "code",
   "execution_count": null,
   "id": "e3ea5f98",
   "metadata": {},
   "outputs": [],
   "source": [
    "fig, ax =plt.subplots(nrows=1,ncols=2, figsize=(12,5))\n",
    "labels=['Female','Male']\n",
    "sns.countplot(x=data.gender, data=data, palette=\"pastel\",ax=ax[0], edgecolor=\".3\")\n",
    "data.gender.value_counts().plot.pie(autopct=\"%1.2f%%\", ax=ax[1], colors=['#66a3ff','#facc99'],\n",
    "                                        labels=labels, explode = (0, 0.05), startangle=120,\n",
    "                                        textprops={'fontsize': 12, 'color':'#0a0a00'})\n",
    "plt.show()"
   ]
  },
  {
   "cell_type": "markdown",
   "id": "44fc72d2",
   "metadata": {},
   "source": [
    "### Gender, Age and Race Visualization"
   ]
  },
  {
   "cell_type": "code",
   "execution_count": null,
   "id": "0df81254",
   "metadata": {},
   "outputs": [],
   "source": [
    "visual_list = ['gender','age','race']\n",
    "fig, ax =plt.subplots(nrows=1,ncols=3,figsize=(24,8))\n",
    "count =0\n",
    "for i in visual_list:\n",
    "    sns.countplot(data[i], hue=data.readmitted, palette='YlOrBr', ax=ax[count]);\n",
    "    count = count+1"
   ]
  },
  {
   "cell_type": "markdown",
   "id": "04c0ae59",
   "metadata": {},
   "source": [
    "### Examination and visualization of the effect of the target variable on insulin variable"
   ]
  },
  {
   "cell_type": "code",
   "execution_count": null,
   "id": "36b69383",
   "metadata": {},
   "outputs": [],
   "source": [
    "data.groupby(by = \"insulin\").readmitted.mean()"
   ]
  },
  {
   "cell_type": "code",
   "execution_count": null,
   "id": "3afb1666",
   "metadata": {},
   "outputs": [],
   "source": [
    "fig, ax =plt.subplots(figsize=(10,4))\n",
    "sns.countplot(x=\"insulin\", hue=\"readmitted\", data=data, palette=\"YlOrBr\")\n",
    "plt.show()"
   ]
  },
  {
   "cell_type": "markdown",
   "id": "5ab4465f",
   "metadata": {},
   "source": [
    "### Visualization of the insulin variable according to the age variable:"
   ]
  },
  {
   "cell_type": "code",
   "execution_count": null,
   "id": "57ba6869",
   "metadata": {},
   "outputs": [],
   "source": [
    "age_list = list(data.age.unique())\n",
    "sns.catplot(x=\"insulin\", hue=\"age\", data=data, kind=\"count\", height=6, aspect=2, palette=\"gnuplot\");"
   ]
  },
  {
   "cell_type": "markdown",
   "id": "29862811",
   "metadata": {},
   "source": [
    "# <a id=\"3\"></a>3. Feature Engineering"
   ]
  },
  {
   "cell_type": "markdown",
   "id": "6764a8ef",
   "metadata": {},
   "source": [
    "## Missing Value Filling"
   ]
  },
  {
   "cell_type": "code",
   "execution_count": null,
   "id": "84ae0c01",
   "metadata": {},
   "outputs": [],
   "source": [
    "data[\"race\"].fillna(data[\"race\"].mode()[0], inplace = True)"
   ]
  },
  {
   "cell_type": "code",
   "execution_count": null,
   "id": "282ebeaa",
   "metadata": {},
   "outputs": [],
   "source": [
    "data[\"race\"].isnull().sum()"
   ]
  },
  {
   "cell_type": "code",
   "execution_count": null,
   "id": "179367df",
   "metadata": {},
   "outputs": [],
   "source": [
    "data = data.loc[~data.discharge_disposition_id.isin([11,13,14,19,20,21])]"
   ]
  },
  {
   "cell_type": "markdown",
   "id": "5a0518fd",
   "metadata": {},
   "source": [
    "### Diagnostics 1-2-3 Transform"
   ]
  },
  {
   "cell_type": "code",
   "execution_count": null,
   "id": "0a39f832",
   "metadata": {},
   "outputs": [],
   "source": [
    "diag_list = ['diag_1','diag_2','diag_3']\n",
    "\n",
    "for col in diag_list:\n",
    "    data[col].fillna('NaN', inplace=True)"
   ]
  },
  {
   "cell_type": "code",
   "execution_count": null,
   "id": "538ed981",
   "metadata": {},
   "outputs": [],
   "source": [
    "import re\n",
    "def transformFunc(value):\n",
    "    value = re.sub(\"V[0-9]*\", \"0\", value) # V\n",
    "    value = re.sub(\"E[0-9]*\", \"0\", value) # E\n",
    "    value = re.sub('NaN', \"-1\", value) # Nan\n",
    "    return value\n",
    "\n",
    "def transformCategory(value):\n",
    "    if value>=390 and value<=459 or value==785:\n",
    "        category = 'Circulatory'\n",
    "    elif value>=460 and value<=519 or value==786:\n",
    "        category = 'Respiratory'\n",
    "    elif value>=520 and value<=579 or value==787:\n",
    "        category = 'Digestive'\n",
    "    elif value==250:\n",
    "        category = 'Diabetes'\n",
    "    elif value>=800 and value<=999:\n",
    "        category = 'Injury'\n",
    "    elif value>=710 and value<=739:\n",
    "        category = 'Musculoskeletal'\n",
    "    elif value>=580 and value<=629 or value==788:\n",
    "        category = 'Genitourinary'\n",
    "    elif value>=140 and value<=239 :\n",
    "        category = 'Neoplasms'\n",
    "    elif value==-1:\n",
    "        category = 'NAN'\n",
    "    else :\n",
    "        category = 'Other'\n",
    "\n",
    "    return category"
   ]
  },
  {
   "cell_type": "code",
   "execution_count": null,
   "id": "4c08617b",
   "metadata": {},
   "outputs": [],
   "source": [
    "for col in diag_list:\n",
    "    data[col] = data[col].apply(transformFunc)\n",
    "    data[col] = data[col].astype(float)"
   ]
  },
  {
   "cell_type": "code",
   "execution_count": null,
   "id": "a237306d",
   "metadata": {},
   "outputs": [],
   "source": [
    "for col in diag_list:\n",
    "    data[col] = data[col].apply(transformCategory)"
   ]
  },
  {
   "cell_type": "markdown",
   "id": "dcd60b64",
   "metadata": {},
   "source": [
    "### Distribution of Diag_1, Diag_2 and Diag_3 Variables by Target Variable:"
   ]
  },
  {
   "cell_type": "code",
   "execution_count": null,
   "id": "71fb7449",
   "metadata": {},
   "outputs": [],
   "source": [
    "fig, ax =plt.subplots(nrows=3,ncols=1,figsize=(15,12))\n",
    "count =0\n",
    "for i in diag_list:\n",
    "    sns.countplot(data[i], hue=data.readmitted, palette='Spectral', ax=ax[count], order = data[i].value_counts().index);\n",
    "    count = count+1"
   ]
  },
  {
   "cell_type": "markdown",
   "id": "ad0c3810",
   "metadata": {},
   "source": [
    "## Local Outlier Factor"
   ]
  },
  {
   "cell_type": "code",
   "execution_count": null,
   "id": "2485175c",
   "metadata": {},
   "outputs": [],
   "source": [
    "from sklearn.neighbors import LocalOutlierFactor\n",
    "clf = LocalOutlierFactor(n_neighbors = 2 , contamination = 0.1)\n",
    "clf.fit_predict(data[numerical_columns])"
   ]
  },
  {
   "cell_type": "code",
   "execution_count": null,
   "id": "45096631",
   "metadata": {},
   "outputs": [],
   "source": [
    "df_scores = clf.negative_outlier_factor_\n",
    "df_scores[0:30]"
   ]
  },
  {
   "cell_type": "code",
   "execution_count": null,
   "id": "dcc007c9",
   "metadata": {},
   "outputs": [],
   "source": [
    "np.sort(df_scores)[0:30]"
   ]
  },
  {
   "cell_type": "code",
   "execution_count": null,
   "id": "2d71ac51",
   "metadata": {},
   "outputs": [],
   "source": [
    "threshold_value = np.sort(df_scores)[2]"
   ]
  },
  {
   "cell_type": "code",
   "execution_count": null,
   "id": "b1601138",
   "metadata": {},
   "outputs": [],
   "source": [
    "outlier_tf = df_scores > threshold_value\n",
    "outlier_tf"
   ]
  },
  {
   "cell_type": "code",
   "execution_count": null,
   "id": "7bda7abe",
   "metadata": {},
   "outputs": [],
   "source": [
    "new_df = data[df_scores > threshold_value]"
   ]
  },
  {
   "cell_type": "code",
   "execution_count": null,
   "id": "36eaaed4",
   "metadata": {},
   "outputs": [],
   "source": [
    "data[df_scores < threshold_value]"
   ]
  },
  {
   "cell_type": "code",
   "execution_count": null,
   "id": "5b77f85c",
   "metadata": {},
   "outputs": [],
   "source": [
    "# Custom encoding for the 21 Drug Features\n",
    "drugs = ['metformin', 'repaglinide', 'nateglinide', 'chlorpropamide', 'glimepiride', 'glipizide', 'glyburide', 'pioglitazone',\n",
    "        'rosiglitazone', 'acarbose', 'miglitol', 'insulin', 'glyburide-metformin', 'tolazamide', 'metformin-pioglitazone',\n",
    "        'metformin-rosiglitazone', 'glimepiride-pioglitazone', 'glipizide-metformin', 'troglitazone', 'tolbutamide', 'acetohexamide']\n",
    "\n",
    "for col in drugs:\n",
    "    data[col] = data[col].replace(['No','Steady','Up','Down'],[0,1,1,1])\n",
    "    data[col] = data[col].astype(int)"
   ]
  },
  {
   "cell_type": "code",
   "execution_count": null,
   "id": "84138f56",
   "metadata": {},
   "outputs": [],
   "source": [
    "# A1Cresult and max_glu_serum\n",
    "data['A1Cresult'] = data['A1Cresult'].replace(['>7','>8','Norm','None'],[1,1,0,-99])\n",
    "data['max_glu_serum'] = data['max_glu_serum'].replace(['>200','>300','Norm','None'],[1,1,0,-99])"
   ]
  },
  {
   "cell_type": "code",
   "execution_count": null,
   "id": "206c0740",
   "metadata": {},
   "outputs": [],
   "source": [
    "# One hot Encoding Race and Id's\n",
    "one_hot_data = pd.get_dummies(data, columns=['race'], prefix=[\"enc\"])\n",
    "\n",
    "columns_ids = ['admission_type_id', 'discharge_disposition_id', 'admission_source_id']\n",
    "\n",
    "one_hot_data[columns_ids] = one_hot_data[columns_ids].astype('str')\n",
    "one_hot_data = pd.get_dummies(one_hot_data, columns=columns_ids)"
   ]
  },
  {
   "cell_type": "markdown",
   "id": "b78c6b84",
   "metadata": {},
   "source": [
    "# <a id=\"4\"></a>4. Train-Test Splitting"
   ]
  },
  {
   "cell_type": "code",
   "execution_count": null,
   "id": "e92233bc",
   "metadata": {},
   "outputs": [],
   "source": [
    "df = one_hot_data.copy()\n",
    "X = df.drop(columns=\"readmitted\", axis=1)\n",
    "Y = df.readmitted"
   ]
  },
  {
   "cell_type": "code",
   "execution_count": null,
   "id": "b382398a",
   "metadata": {},
   "outputs": [],
   "source": [
    "from sklearn.model_selection import train_test_split\n",
    "X_train, X_test, y_train, y_test = train_test_split(X, Y, test_size = 0.20, random_state = 42)"
   ]
  },
  {
   "cell_type": "markdown",
   "id": "0568cc95",
   "metadata": {},
   "source": [
    "## Encoding"
   ]
  },
  {
   "cell_type": "code",
   "execution_count": null,
   "id": "a2c41686",
   "metadata": {},
   "outputs": [],
   "source": [
    "ordinal_enc = OrdinalEncoder()\n",
    "X_train.age = ordinal_enc.fit_transform(X_train.age.values.reshape(-1, 1))\n",
    "X_test.age = ordinal_enc.transform(X_test.age.values.reshape(-1, 1))"
   ]
  },
  {
   "cell_type": "code",
   "execution_count": null,
   "id": "14ae0ed3",
   "metadata": {},
   "outputs": [],
   "source": [
    "for col in diag_list:\n",
    "    label_enc = LabelEncoder()\n",
    "    X_train[col] = label_enc.fit_transform(X_train[col])\n",
    "    X_test[col] = label_enc.fit_transform(X_test[col])"
   ]
  },
  {
   "cell_type": "code",
   "execution_count": null,
   "id": "f09425f8",
   "metadata": {},
   "outputs": [],
   "source": [
    "binary = ['change', 'diabetesMed', 'gender']\n",
    "\n",
    "from category_encoders import BinaryEncoder\n",
    "binary_enc = BinaryEncoder(cols=binary)\n",
    "binary_enc.fit_transform(X_train)\n",
    "X_train = binary_enc.fit_transform(X_train)\n",
    "X_test = binary_enc.transform(X_test)"
   ]
  },
  {
   "cell_type": "markdown",
   "id": "2c2e1dc3",
   "metadata": {},
   "source": [
    "### Resampling techniques — Undersample majority class\n",
    "\n",
    "Since we have an unbalanced dataset, We will use sampling technique."
   ]
  },
  {
   "cell_type": "code",
   "execution_count": null,
   "id": "6e0e3739",
   "metadata": {},
   "outputs": [],
   "source": [
    "from sklearn.utils import resample\n",
    "\n",
    "X = pd.concat([X_train, y_train], axis=1)\n",
    "\n",
    "not_readmitted = X[X.readmitted==0]\n",
    "readmitted = X[X.readmitted==1]\n",
    "\n",
    "not_readmitted_sampled = resample(not_readmitted,\n",
    "                                replace = False,\n",
    "                                n_samples = len(readmitted),\n",
    "                                random_state = 42)\n",
    "\n",
    "downsampled = pd.concat([not_readmitted_sampled, readmitted])\n",
    "\n",
    "downsampled.readmitted.value_counts()"
   ]
  },
  {
   "cell_type": "code",
   "execution_count": null,
   "id": "7572cd95",
   "metadata": {},
   "outputs": [],
   "source": [
    "y_train = downsampled.readmitted\n",
    "X_train = downsampled.drop('readmitted', axis=1)"
   ]
  },
  {
   "cell_type": "markdown",
   "id": "f86dc521",
   "metadata": {},
   "source": [
    "## Train-Validation Splitting"
   ]
  },
  {
   "cell_type": "code",
   "execution_count": null,
   "id": "62c6d996",
   "metadata": {},
   "outputs": [],
   "source": [
    "X_train, X_val, y_train, y_val = train_test_split(X_train, y_train, test_size = 0.25, random_state = 42)"
   ]
  },
  {
   "cell_type": "markdown",
   "id": "5c869085",
   "metadata": {},
   "source": [
    "# <a id=\"5\"></a>5. Modelling"
   ]
  },
  {
   "cell_type": "markdown",
   "id": "85f87291",
   "metadata": {},
   "source": [
    "## Model Selection"
   ]
  },
  {
   "cell_type": "code",
   "execution_count": null,
   "id": "005d9cf3",
   "metadata": {},
   "outputs": [],
   "source": [
    "from sklearn.metrics import roc_auc_score, accuracy_score, precision_score, recall_score,f1_score\n",
    "from sklearn.metrics import confusion_matrix as cm"
   ]
  },
  {
   "cell_type": "code",
   "execution_count": null,
   "id": "a94fc261",
   "metadata": {},
   "outputs": [],
   "source": [
    "def calc_specificity(y_actual, y_pred, thresh):\n",
    "    # calculates specificity\n",
    "    return sum((y_pred < thresh) & (y_actual == 0)) /sum(y_actual ==0)\n",
    "\n",
    "def print_report(y_actual, y_pred, thresh):\n",
    "\n",
    "    auc = roc_auc_score(y_actual, y_pred)\n",
    "    accuracy = accuracy_score(y_actual, (y_pred > thresh))\n",
    "    recall = recall_score(y_actual, (y_pred > thresh))\n",
    "    precision = precision_score(y_actual, (y_pred > thresh))\n",
    "    fscore = f1_score(y_actual,(y_pred > thresh) )\n",
    "    specificity = calc_specificity(y_actual, y_pred, thresh)\n",
    "    print('AUC:%.3f'%auc)\n",
    "    print('accuracy:%.3f'%accuracy)\n",
    "    print('recall:%.3f'%recall)\n",
    "    print('precision:%.3f'%precision)\n",
    "    print('fscore:%.3f'%fscore)\n",
    "    print('specificity:%.3f'%specificity)\n",
    "    print(' ')\n",
    "    return auc, accuracy, recall, precision,fscore, specificity"
   ]
  },
  {
   "cell_type": "code",
   "execution_count": null,
   "id": "dc0ce9af",
   "metadata": {},
   "outputs": [],
   "source": [
    "thresh = 0.5"
   ]
  },
  {
   "cell_type": "markdown",
   "id": "3fcc03cd",
   "metadata": {},
   "source": [
    "## Model Selection: Baseline Models"
   ]
  },
  {
   "cell_type": "markdown",
   "id": "535348ce",
   "metadata": {},
   "source": [
    "## Logistic Regression"
   ]
  },
  {
   "cell_type": "code",
   "execution_count": null,
   "id": "94135329",
   "metadata": {},
   "outputs": [],
   "source": [
    "log_model = LogisticRegression(solver = \"liblinear\",class_weight=\"balanced\",random_state = 42).fit(X_train, y_train)"
   ]
  },
  {
   "cell_type": "code",
   "execution_count": null,
   "id": "2ec1c31b",
   "metadata": {},
   "outputs": [],
   "source": [
    "y_train_preds = log_model.predict_proba(X_train)[:,1]\n",
    "y_val_preds = log_model.predict_proba(X_val)[:,1]\n",
    "\n",
    "print(\"Logistic Regression\")\n",
    "print('Training:')\n",
    "lr_train_auc, lr_train_accuracy, lr_train_recall, \\\n",
    "    lr_train_precision, lr_train_fscore, lr_train_specificity = print_report(y_train,y_train_preds, thresh)\n",
    "print('Validation:')\n",
    "lr_val_auc, lr_val_accuracy, lr_val_recall, \\\n",
    "    lr_val_precision,lr_val_fscore, lr_val_specificity = print_report(y_val,y_val_preds, thresh)"
   ]
  },
  {
   "cell_type": "code",
   "execution_count": null,
   "id": "893d8bc0",
   "metadata": {},
   "outputs": [],
   "source": [
    "# Confusion Matrix\n",
    "\n",
    "predictions = log_model.predict(X_train)\n",
    "train_score = round(accuracy_score(y_train, predictions), 3)\n",
    "cm_train = cm(y_train, predictions)\n",
    "\n",
    "predictions = log_model.predict(X_val)\n",
    "val_score = round(accuracy_score(y_val, predictions), 3)\n",
    "cm_val = cm(y_val, predictions)\n",
    "\n",
    "fig, (ax1,ax2) = plt.subplots(nrows=1,ncols=2,figsize=(15,5))\n",
    "sns.heatmap(cm_train, annot=True, fmt=\".0f\",ax=ax1)\n",
    "ax1.set_xlabel('Predicted Values')\n",
    "ax1.set_ylabel('Actual Values')\n",
    "ax1.set_title('Train Accuracy Score: {0}'.format(train_score), size = 15)\n",
    "sns.heatmap(cm_val, annot=True, fmt=\".0f\",ax=ax2)\n",
    "ax2.set_xlabel('Predicted Values')\n",
    "ax2.set_ylabel('Actual Values')\n",
    "ax2.set_title('Validation Accuracy Score: {0}'.format(val_score), size = 15)\n",
    "plt.show()"
   ]
  },
  {
   "cell_type": "markdown",
   "id": "53042fe5",
   "metadata": {},
   "source": [
    "## Random Forest Classifier"
   ]
  },
  {
   "cell_type": "code",
   "execution_count": null,
   "id": "e1e2d9aa",
   "metadata": {},
   "outputs": [],
   "source": [
    "random_forest_model = RandomForestClassifier(random_state=42, n_jobs=-1, n_estimators=100, max_depth=3)\n",
    "random_forest_model.fit(X_train, y_train)"
   ]
  },
  {
   "cell_type": "code",
   "execution_count": null,
   "id": "01cbe662",
   "metadata": {},
   "outputs": [],
   "source": [
    "y_train_preds = random_forest_model.predict_proba(X_train)[:,1]\n",
    "y_val_preds = random_forest_model.predict_proba(X_val)[:,1]\n",
    "\n",
    "print(\"Random Forest\")\n",
    "print('Training:')\n",
    "rf_train_auc, rf_train_accuracy, rf_train_recall, rf_train_precision,rf_train_fscore, rf_train_specificity =print_report(y_train,y_train_preds, thresh)\n",
    "print('Validation:')\n",
    "rf_val_auc, rf_val_accuracy, rf_val_recall, rf_val_precision,rf_val_fscore, rf_val_specificity = print_report(y_val,y_val_preds, thresh)"
   ]
  },
  {
   "cell_type": "code",
   "execution_count": null,
   "id": "1dbf9ea8",
   "metadata": {},
   "outputs": [],
   "source": [
    "# Confusion Matrix\n",
    "\n",
    "predictions = random_forest_model.predict(X_train)\n",
    "train_score = round(accuracy_score(y_train, predictions), 3)\n",
    "cm_train = cm(y_train, predictions)\n",
    "\n",
    "predictions = random_forest_model.predict(X_val)\n",
    "val_score = round(accuracy_score(y_val, predictions), 3)\n",
    "cm_val = cm(y_val, predictions)\n",
    "\n",
    "fig, (ax1,ax2) = plt.subplots(nrows=1,ncols=2,figsize=(15,5))\n",
    "sns.heatmap(cm_train, annot=True, fmt=\".0f\",ax=ax1)\n",
    "ax1.set_xlabel('Predicted Values')\n",
    "ax1.set_ylabel('Actual Values')\n",
    "ax1.set_title('Train Accuracy Score: {0}'.format(train_score), size = 15)\n",
    "sns.heatmap(cm_val, annot=True, fmt=\".0f\",ax=ax2)\n",
    "ax2.set_xlabel('Predicted Values')\n",
    "ax2.set_ylabel('Actual Values')\n",
    "ax2.set_title('Validation Accuracy Score: {0}'.format(val_score), size = 15)\n",
    "plt.show()"
   ]
  },
  {
   "cell_type": "markdown",
   "id": "6b65e971",
   "metadata": {},
   "source": [
    "## Gradient Boosting Classifier"
   ]
  },
  {
   "cell_type": "code",
   "execution_count": null,
   "id": "34fe5ada",
   "metadata": {},
   "outputs": [],
   "source": [
    "gradient_model = GradientBoostingClassifier(random_state=42)\n",
    "gradient_model.fit(X_train, y_train)"
   ]
  },
  {
   "cell_type": "code",
   "execution_count": null,
   "id": "37fd5ff7",
   "metadata": {},
   "outputs": [],
   "source": [
    "y_train_preds = gradient_model.predict_proba(X_train)[:,1]\n",
    "y_val_preds = gradient_model.predict_proba(X_val)[:,1]\n",
    "\n",
    "print(\"Gradient Boosing\")\n",
    "print('Training:')\n",
    "gbc_train_auc, gbc_train_accuracy, gbc_train_recall, gbc_train_precision,gbc_train_fscore, gbc_train_specificity = print_report(y_train,y_train_preds, thresh)\n",
    "print('Validation:')\n",
    "gbc_val_auc, gbc_val_accuracy, gbc_val_recall, gbc_val_precision, gbc_val_fscore, gbc_val_specificity = print_report(y_val,y_val_preds, thresh)"
   ]
  },
  {
   "cell_type": "code",
   "execution_count": null,
   "id": "3d1f1b39",
   "metadata": {},
   "outputs": [],
   "source": [
    "# Confusion Matrix\n",
    "\n",
    "predictions = gradient_model.predict(X_train)\n",
    "train_score = round(accuracy_score(y_train, predictions), 3)\n",
    "cm_train = cm(y_train, predictions)\n",
    "\n",
    "predictions = gradient_model.predict(X_val)\n",
    "val_score = round(accuracy_score(y_val, predictions), 3)\n",
    "cm_val = cm(y_val, predictions)\n",
    "\n",
    "fig, (ax1,ax2) = plt.subplots(nrows=1,ncols=2,figsize=(15,5))\n",
    "sns.heatmap(cm_train, annot=True, fmt=\".0f\",ax=ax1)\n",
    "ax1.set_xlabel('Predicted Values')\n",
    "ax1.set_ylabel('Actual Values')\n",
    "ax1.set_title('Train Accuracy Score: {0}'.format(train_score), size = 15)\n",
    "sns.heatmap(cm_val, annot=True, fmt=\".0f\",ax=ax2)\n",
    "ax2.set_xlabel('Predicted Values')\n",
    "ax2.set_ylabel('Actual Values')\n",
    "ax2.set_title('Validation Accuracy Score: {0}'.format(val_score), size = 15)\n",
    "plt.show()"
   ]
  },
  {
   "cell_type": "markdown",
   "id": "1d6374f2",
   "metadata": {},
   "source": [
    "## XGBOOST Classifier"
   ]
  },
  {
   "cell_type": "code",
   "execution_count": null,
   "id": "d0f4296f",
   "metadata": {},
   "outputs": [],
   "source": [
    "xgb_model = XGBClassifier(random_state=42, n_jobs=-1,max_depth=3)\n",
    "xgb_model.fit(X_train, y_train)"
   ]
  },
  {
   "cell_type": "code",
   "execution_count": null,
   "id": "db2d6eec",
   "metadata": {},
   "outputs": [],
   "source": [
    "y_train_preds = xgb_model.predict_proba(X_train)[:,1]\n",
    "y_val_preds = xgb_model.predict_proba(X_val)[:,1]\n",
    "\n",
    "print(\"XGBOOST\")\n",
    "y_train_preds = gradient_model.predict_proba(X_train)[:,1]\n",
    "y_val_preds = gradient_model.predict_proba(X_val)[:,1]\n",
    "\n",
    "print(\"Gradient Boosing\")\n",
    "print('Training:')\n",
    "xgb_train_auc, xgb_train_accuracy, xgb_train_recall, xgb_train_precision, xgb_train_fscore, xgb_train_specificity = print_report(y_train,y_train_preds, thresh)\n",
    "print('Validation:')\n",
    "xgb_val_auc, xgb_val_accuracy, xgb_val_recall, xgb_val_precision,xgb_val_fscore, xgb_val_specificity = print_report(y_val,y_val_preds, thresh)"
   ]
  },
  {
   "cell_type": "code",
   "execution_count": null,
   "id": "872cba28",
   "metadata": {},
   "outputs": [],
   "source": [
    "# Confusion Matrix\n",
    "\n",
    "predictions = xgb_model.predict(X_train)\n",
    "train_score = round(accuracy_score(y_train, predictions), 3)\n",
    "cm_train = cm(y_train, predictions)\n",
    "\n",
    "predictions = xgb_model.predict(X_val)\n",
    "val_score = round(accuracy_score(y_val, predictions), 3)\n",
    "cm_val = cm(y_val, predictions)\n",
    "\n",
    "fig, (ax1,ax2) = plt.subplots(nrows=1,ncols=2,figsize=(15,5))\n",
    "sns.heatmap(cm_train, annot=True, fmt=\".0f\",ax=ax1)\n",
    "ax1.set_xlabel('Predicted Values')\n",
    "ax1.set_ylabel('Actual Values')\n",
    "ax1.set_title('Train Accuracy Score: {0}'.format(train_score), size = 15)\n",
    "sns.heatmap(cm_val, annot=True, fmt=\".0f\",ax=ax2)\n",
    "ax2.set_xlabel('Predicted Values')\n",
    "ax2.set_ylabel('Actual Values')\n",
    "ax2.set_title('Validation Accuracy Score: {0}'.format(val_score), size = 15)\n",
    "plt.show()"
   ]
  },
  {
   "cell_type": "markdown",
   "id": "458e8bb6",
   "metadata": {},
   "source": [
    "## Light-GBM Classifier"
   ]
  },
  {
   "cell_type": "code",
   "execution_count": null,
   "id": "4b36f732",
   "metadata": {},
   "outputs": [],
   "source": [
    "from lightgbm import LGBMClassifier\n",
    "lgbm_model = LGBMClassifier(random_state = 42,max_depth=3)\n",
    "lgbm_model.fit(X_train, y_train)"
   ]
  },
  {
   "cell_type": "code",
   "execution_count": null,
   "id": "edceb171",
   "metadata": {},
   "outputs": [],
   "source": [
    "y_train_preds = lgbm_model.predict_proba(X_train)[:,1]\n",
    "y_val_preds = lgbm_model.predict_proba(X_val)[:,1]\n",
    "\n",
    "print(\"LGBM\")\n",
    "print('Training:')\n",
    "lgbm_train_auc, lgbm_train_accuracy,lgbm_train_recall, lgbm_train_precision,lgbm_train_fscore,lgbm_train_specificity = print_report(y_train,y_train_preds, thresh)\n",
    "print('Validation:')\n",
    "lgbm_val_auc, lgbm_val_accuracy, lgbm_val_recall, lgbm_val_precision,lgbm_val_fscore,lgbm_val_specificity = print_report(y_val,y_val_preds, thresh)"
   ]
  },
  {
   "cell_type": "code",
   "execution_count": null,
   "id": "30c4824b",
   "metadata": {},
   "outputs": [],
   "source": [
    "# Confusion Matrix\n",
    "\n",
    "predictions = lgbm_model.predict(X_train)\n",
    "train_score = round(accuracy_score(y_train, predictions), 3)\n",
    "cm_train = cm(y_train, predictions)\n",
    "\n",
    "predictions = lgbm_model.predict(X_val)\n",
    "val_score = round(accuracy_score(y_val, predictions), 3)\n",
    "cm_val = cm(y_val, predictions)\n",
    "\n",
    "fig, (ax1,ax2) = plt.subplots(nrows=1,ncols=2,figsize=(15,5))\n",
    "sns.heatmap(cm_train, annot=True, fmt=\".0f\",ax=ax1)\n",
    "ax1.set_xlabel('Predicted Values')\n",
    "ax1.set_ylabel('Actual Values')\n",
    "ax1.set_title('Train Accuracy Score: {0}'.format(train_score), size = 15)\n",
    "sns.heatmap(cm_val, annot=True, fmt=\".0f\",ax=ax2)\n",
    "ax2.set_xlabel('Predicted Values')\n",
    "ax2.set_ylabel('Actual Values')\n",
    "ax2.set_title('Validation Accuracy Score: {0}'.format(val_score), size = 15)\n",
    "plt.show()"
   ]
  },
  {
   "cell_type": "markdown",
   "id": "57478c8e",
   "metadata": {},
   "source": [
    "## CATBOOST Classifier"
   ]
  },
  {
   "cell_type": "code",
   "execution_count": null,
   "id": "adb44f3a",
   "metadata": {},
   "outputs": [],
   "source": [
    "cat_model = CatBoostClassifier(random_state = 42, max_depth=3)\n",
    "cat_model.fit(X_train, y_train,verbose=False)"
   ]
  },
  {
   "cell_type": "code",
   "execution_count": null,
   "id": "ec9d06f2",
   "metadata": {},
   "outputs": [],
   "source": [
    "y_train_preds = cat_model.predict_proba(X_train)[:,1]\n",
    "y_val_preds = cat_model.predict_proba(X_val)[:,1]\n",
    "\n",
    "print(\"CATBOOST\")\n",
    "print('Training:')\n",
    "catb_train_auc, catb_train_accuracy,catb_train_recall, catb_train_precision,catb_train_fscore,catb_train_specificity = print_report(y_train,y_train_preds, thresh)\n",
    "print('Validation:')\n",
    "catb_val_auc,catb_val_accuracy, catb_val_recall, catb_val_precision,catb_val_fscore,catb_val_specificity = print_report(y_val,y_val_preds, thresh)"
   ]
  },
  {
   "cell_type": "code",
   "execution_count": null,
   "id": "51faafee",
   "metadata": {},
   "outputs": [],
   "source": [
    "# Confusion Matrix\n",
    "\n",
    "predictions = cat_model.predict(X_train)\n",
    "train_score = round(accuracy_score(y_train, predictions), 3)\n",
    "cm_train = cm(y_train, predictions)\n",
    "\n",
    "predictions = cat_model.predict(X_val)\n",
    "val_score = round(accuracy_score(y_val, predictions), 3)\n",
    "cm_val = cm(y_val, predictions)\n",
    "\n",
    "fig, (ax1,ax2) = plt.subplots(nrows=1,ncols=2,figsize=(15,5))\n",
    "sns.heatmap(cm_train, annot=True, fmt=\".0f\",ax=ax1)\n",
    "ax1.set_xlabel('Predicted Values')\n",
    "ax1.set_ylabel('Actual Values')\n",
    "ax1.set_title('Train Accuracy Score: {0}'.format(train_score), size = 15)\n",
    "sns.heatmap(cm_val, annot=True, fmt=\".0f\",ax=ax2)\n",
    "ax2.set_xlabel('Predicted Values')\n",
    "ax2.set_ylabel('Actual Values')\n",
    "ax2.set_title('Validation Accuracy Score: {0}'.format(val_score), size = 15)\n",
    "plt.show()"
   ]
  },
  {
   "cell_type": "markdown",
   "id": "8e4cac63",
   "metadata": {},
   "source": [
    "## Analyze results baseline models"
   ]
  },
  {
   "cell_type": "code",
   "execution_count": null,
   "id": "2112d0bd",
   "metadata": {},
   "outputs": [],
   "source": [
    "base_models_results = pd.DataFrame({'classifier':['LOJ','LOJ','RF','RF','GBM','GBM','XGB','XGB','LGBM','LGBM','CATB','CATB'],\n",
    "                           'data_set':['train','val']*6,\n",
    "                          'auc':[lr_train_auc, lr_val_auc,rf_train_auc,rf_val_auc,gbc_train_auc,gbc_val_auc,xgb_train_auc,xgb_val_auc,lgbm_train_auc,lgbm_val_auc,catb_train_auc,catb_val_auc,],\n",
    "                          'accuracy':[lr_train_accuracy, lr_val_accuracy,rf_train_accuracy,rf_val_accuracy,gbc_train_accuracy,gbc_val_accuracy,xgb_train_accuracy,xgb_val_accuracy,lgbm_train_accuracy,lgbm_val_accuracy,catb_train_accuracy,catb_val_accuracy,],\n",
    "                          'recall':[lr_train_recall, lr_val_recall,rf_train_recall,rf_val_recall,gbc_train_recall,gbc_val_recall,xgb_train_recall,xgb_val_recall,lgbm_train_recall,lgbm_val_recall,catb_train_recall,catb_val_recall,],\n",
    "                          'precision':[lr_train_precision, lr_val_precision,rf_train_precision,rf_val_precision,gbc_train_precision,gbc_val_precision,xgb_train_precision,xgb_val_precision,lgbm_train_precision,lgbm_val_precision,catb_train_precision,catb_val_precision,],\n",
    "                          'fscore':[lr_train_fscore, lr_val_fscore,rf_train_fscore,rf_val_fscore,gbc_train_fscore,gbc_val_fscore,xgb_train_fscore,xgb_val_fscore,lgbm_train_fscore,lgbm_val_fscore,catb_train_fscore,catb_val_fscore,],\n",
    "                          'specificity':[lr_train_specificity, lr_val_specificity,rf_train_specificity,rf_val_specificity,gbc_train_specificity,gbc_val_specificity,xgb_train_specificity,xgb_val_specificity,lgbm_train_specificity,lgbm_val_specificity,catb_train_specificity,catb_val_specificity,]})"
   ]
  },
  {
   "cell_type": "code",
   "execution_count": null,
   "id": "555f2ef2",
   "metadata": {},
   "outputs": [],
   "source": [
    "base_models_results"
   ]
  },
  {
   "cell_type": "code",
   "execution_count": null,
   "id": "08930a77",
   "metadata": {},
   "outputs": [],
   "source": [
    "fig, ax = plt.subplots(figsize=(10,6))\n",
    "ax = sns.barplot(x=\"classifier\", y=\"auc\", hue=\"data_set\", data=base_models_results)\n",
    "ax.set_xlabel('Classifier',fontsize = 15)\n",
    "ax.set_ylabel('AUC', fontsize = 15)\n",
    "ax.tick_params(labelsize=15)\n",
    "\n",
    "# Put the legend out of the figure\n",
    "plt.legend(bbox_to_anchor=(1.05, 1), loc=2, borderaxespad=0., fontsize = 15)\n",
    "plt.show()"
   ]
  },
  {
   "cell_type": "markdown",
   "id": "28934b5d",
   "metadata": {},
   "source": [
    "# <a id=\"6\"></a>6. Feature Importance"
   ]
  },
  {
   "cell_type": "markdown",
   "id": "5a03f07a",
   "metadata": {},
   "source": [
    "## Feature İmportance with Light-GBM Classifier"
   ]
  },
  {
   "cell_type": "code",
   "execution_count": null,
   "id": "6dbec60b",
   "metadata": {},
   "outputs": [],
   "source": [
    "import lightgbm as lgb\n",
    "\n",
    "plt.rcParams[\"figure.figsize\"] = (18, 10)\n",
    "lgb.plot_importance(lgbm_model)\n",
    "\n",
    "feature_imp = pd.Series(lgbm_model.feature_importances_, index = X_train.columns)\n",
    "best_features = feature_imp.nlargest(25)"
   ]
  },
  {
   "cell_type": "code",
   "execution_count": null,
   "id": "fcd5a982",
   "metadata": {},
   "outputs": [],
   "source": [
    "best_features.index"
   ]
  },
  {
   "cell_type": "code",
   "execution_count": null,
   "id": "1b603e97",
   "metadata": {},
   "outputs": [],
   "source": [
    "X_train_importance = X_train[best_features.index]\n",
    "X_val_importance = X_val[best_features.index]\n",
    "X_test_importance = X_test[best_features.index]"
   ]
  },
  {
   "cell_type": "markdown",
   "id": "5ed9c509",
   "metadata": {},
   "source": [
    "# <a id=\"7\"></a>7. Hyperparameter Tuning"
   ]
  },
  {
   "cell_type": "markdown",
   "id": "309ec9e8",
   "metadata": {},
   "source": [
    "## Random Forest Classifier Model Tuning"
   ]
  },
  {
   "cell_type": "code",
   "execution_count": null,
   "id": "63fdefb2",
   "metadata": {},
   "outputs": [],
   "source": [
    "rf = RandomForestClassifier()"
   ]
  },
  {
   "cell_type": "code",
   "execution_count": null,
   "id": "0a3d584e",
   "metadata": {},
   "outputs": [],
   "source": [
    "rf_params = {\"max_depth\": [2,5,8],\n",
    "             \"n_estimators\": [100,200,500,700],\n",
    "             \"max_features\": [3,5,8],\n",
    "             \"min_samples_split\":[2,5,10]}"
   ]
  },
  {
   "cell_type": "code",
   "execution_count": null,
   "id": "eb2bbc80",
   "metadata": {},
   "outputs": [],
   "source": [
    "rf_cv_model = GridSearchCV(rf, rf_params, cv=3, n_jobs=-1, verbose=2).fit(X_train_importance, y_train)"
   ]
  },
  {
   "cell_type": "code",
   "execution_count": null,
   "id": "6f703d71",
   "metadata": {},
   "outputs": [],
   "source": [
    "rf_cv_model.best_params_"
   ]
  },
  {
   "cell_type": "code",
   "execution_count": null,
   "id": "218ccfe5",
   "metadata": {},
   "outputs": [],
   "source": [
    "rf_tuned =RandomForestClassifier(max_depth=5,\n",
    "                                 max_features=5,\n",
    "                                 min_samples_split=5,\n",
    "                                 n_estimators=500).fit(X_train_importance, y_train)"
   ]
  },
  {
   "cell_type": "code",
   "execution_count": null,
   "id": "29188e0c",
   "metadata": {},
   "outputs": [],
   "source": [
    "y_train_preds = random_forest_model.predict_proba(X_train)[:,1]\n",
    "y_val_preds = random_forest_model.predict_proba(X_val)[:,1]\n",
    "\n",
    "print('Baseline Random Forest')\n",
    "rf_train_auc_base = roc_auc_score(y_train, y_train_preds)\n",
    "rf_val_auc_base = roc_auc_score(y_val, y_val_preds)\n",
    "\n",
    "print('Training AUC:%.3f'%(rf_train_auc_base))\n",
    "print('Validation AUC:%.3f'%(rf_val_auc_base))\n",
    "\n",
    "print('Optimized Random Forest')\n",
    "y_train_preds_random = rf_tuned.predict_proba(X_train_importance)[:,1]\n",
    "y_val_preds_random = rf_tuned.predict_proba(X_val_importance)[:,1]\n",
    "\n",
    "rf_train_auc = roc_auc_score(y_train, y_train_preds_random)\n",
    "rf_val_auc = roc_auc_score(y_val, y_val_preds_random)\n",
    "\n",
    "print('Training AUC:%.3f'%(rf_train_auc))\n",
    "print('Validation AUC:%.3f'%(rf_val_auc))"
   ]
  },
  {
   "cell_type": "markdown",
   "id": "457524fa",
   "metadata": {},
   "source": [
    "## Ligth-GBM Classifier Model Tuning"
   ]
  },
  {
   "cell_type": "code",
   "execution_count": null,
   "id": "f57ad77e",
   "metadata": {},
   "outputs": [],
   "source": [
    "lgbm=LGBMClassifier()"
   ]
  },
  {
   "cell_type": "code",
   "execution_count": null,
   "id": "acbff178",
   "metadata": {},
   "outputs": [],
   "source": [
    "lgbm_params = {\"learning_rate\":[0.01,0.1,0.05],\n",
    "              \"n_estimators\": [100,200,500],\n",
    "               \"subsample\":[0.1,0.2],\n",
    "              \"max_depth\":[2,3,5,8]}"
   ]
  },
  {
   "cell_type": "code",
   "execution_count": null,
   "id": "3aca3dda",
   "metadata": {},
   "outputs": [],
   "source": [
    "lgbm_cv_model=GridSearchCV(lgbm,lgbm_params,cv=3,n_jobs=-1,verbose=2).fit(X_train_importance,y_train)"
   ]
  },
  {
   "cell_type": "code",
   "execution_count": null,
   "id": "4bcc3835",
   "metadata": {},
   "outputs": [],
   "source": [
    "lgbm_cv_model.best_params_"
   ]
  },
  {
   "cell_type": "code",
   "execution_count": null,
   "id": "223b33be",
   "metadata": {},
   "outputs": [],
   "source": [
    "lgbm_tuned=LGBMClassifier(learning_rate=0.1,max_depth=2,n_estimators=200,subsample= 0.1).fit(X_train_importance, y_train)"
   ]
  },
  {
   "cell_type": "code",
   "execution_count": null,
   "id": "fa39bc03",
   "metadata": {},
   "outputs": [],
   "source": [
    "y_train_preds = lgbm_model.predict_proba(X_train)[:,1]\n",
    "y_val_preds = lgbm_model.predict_proba(X_val)[:,1]\n",
    "\n",
    "print('Baseline LGBM')\n",
    "lgbm_train_auc_base = roc_auc_score(y_train, y_train_preds)\n",
    "lgbm_val_auc_base = roc_auc_score(y_val, y_val_preds)\n",
    "\n",
    "print('Training AUC:%.3f'%(lgbm_train_auc_base))\n",
    "print('Validation AUC:%.3f'%(lgbm_val_auc_base))\n",
    "\n",
    "print('Optimized LGBM')\n",
    "y_train_preds_lgbm = lgbm_tuned.predict_proba(X_train_importance)[:,1]\n",
    "y_val_preds_lgbm = lgbm_tuned.predict_proba(X_val_importance)[:,1]\n",
    "\n",
    "lgbm_train_auc = roc_auc_score(y_train, y_train_preds_lgbm)\n",
    "lgbm_val_auc = roc_auc_score(y_val, y_val_preds_lgbm)\n",
    "\n",
    "print('Training AUC:%.3f'%(lgbm_train_auc))\n",
    "print('Validation AUC:%.3f'%(lgbm_val_auc))"
   ]
  },
  {
   "cell_type": "markdown",
   "id": "6b5b91bf",
   "metadata": {},
   "source": [
    "## CATBOOST Classifier Model Tuning"
   ]
  },
  {
   "cell_type": "code",
   "execution_count": null,
   "id": "6b18d1e5",
   "metadata": {},
   "outputs": [],
   "source": [
    "catb=CatBoostClassifier()"
   ]
  },
  {
   "cell_type": "code",
   "execution_count": null,
   "id": "993ae64c",
   "metadata": {},
   "outputs": [],
   "source": [
    "catb_params={\"iterations\":[200,500,1000],\n",
    "            \"learning_rate\":[0.05,0.1],\n",
    "            \"depth\":[4,5,8]}"
   ]
  },
  {
   "cell_type": "code",
   "execution_count": null,
   "id": "f9fd969a",
   "metadata": {},
   "outputs": [],
   "source": [
    "catb_cv_model=GridSearchCV(catb,catb_params, cv=3, n_jobs=-1,  verbose=2).fit(X_train_importance,y_train)"
   ]
  },
  {
   "cell_type": "code",
   "execution_count": null,
   "id": "990a4f16",
   "metadata": {},
   "outputs": [],
   "source": [
    "catb_cv_model.best_params_"
   ]
  },
  {
   "cell_type": "code",
   "execution_count": null,
   "id": "87def946",
   "metadata": {},
   "outputs": [],
   "source": [
    "catb_tuned =CatBoostClassifier(depth=5,iterations=200,learning_rate=0.05).fit(X_train_importance, y_train)"
   ]
  },
  {
   "cell_type": "code",
   "execution_count": null,
   "id": "1849bf75",
   "metadata": {},
   "outputs": [],
   "source": [
    "y_train_preds = cat_model.predict_proba(X_train)[:,1]\n",
    "y_valid_preds = cat_model.predict_proba(X_val)[:,1]\n",
    "\n",
    "print('Baseline CATBOOST')\n",
    "catb_train_auc_base = roc_auc_score(y_train, y_train_preds)\n",
    "catb_val_auc_base = roc_auc_score(y_val, y_val_preds)\n",
    "\n",
    "print('Training AUC:%.3f'%(catb_train_auc_base))\n",
    "print('Validation AUC:%.3f'%(catb_val_auc_base))\n",
    "\n",
    "print('Optimized CATBOOST')\n",
    "y_train_preds_catb = catb_tuned.predict_proba(X_train_importance)[:,1]\n",
    "y_val_preds_catb = catb_tuned.predict_proba(X_val_importance)[:,1]\n",
    "\n",
    "catb_train_auc = roc_auc_score(y_train, y_train_preds_catb)\n",
    "catb_val_auc = roc_auc_score(y_val, y_val_preds_catb)\n",
    "\n",
    "print('Training AUC:%.3f'%(catb_train_auc))\n",
    "print('Validation AUC:%.3f'%(catb_val_auc))"
   ]
  },
  {
   "cell_type": "markdown",
   "id": "bc1f3900",
   "metadata": {},
   "source": [
    "## Hyperparameter Tuning Results"
   ]
  },
  {
   "cell_type": "code",
   "execution_count": null,
   "id": "1d85db8e",
   "metadata": {},
   "outputs": [],
   "source": [
    "data_results = pd.DataFrame({'classifier':['RF','RF','LGBM','LGBM','CATB','CATB'],\n",
    "                           'data_set':['base','optimized']*3,\n",
    "                          'auc':[rf_val_auc_base,rf_val_auc,\n",
    "                                 lgbm_val_auc_base,lgbm_val_auc,\n",
    "                                 catb_val_auc_base,catb_val_auc,],\n",
    "                          })"
   ]
  },
  {
   "cell_type": "code",
   "execution_count": null,
   "id": "133fdd02",
   "metadata": {},
   "outputs": [],
   "source": [
    "data_results"
   ]
  },
  {
   "cell_type": "code",
   "execution_count": null,
   "id": "40311cc0",
   "metadata": {},
   "outputs": [],
   "source": [
    "ax = sns.barplot(x=\"classifier\", y=\"auc\", hue=\"data_set\", data=data_results)\n",
    "ax.set_xlabel('Classifier',fontsize = 15)\n",
    "ax.set_ylabel('AUC', fontsize = 15)\n",
    "ax.tick_params(labelsize=15)\n",
    "# Put the legend out of the figure\n",
    "plt.legend(bbox_to_anchor=(1.05, 1), loc=2, borderaxespad=0., fontsize = 15)\n",
    "\n",
    "plt.show()"
   ]
  },
  {
   "cell_type": "markdown",
   "id": "7162182e",
   "metadata": {},
   "source": [
    "## Roc-Auc Comparison of Models"
   ]
  },
  {
   "cell_type": "code",
   "execution_count": null,
   "id": "83720a8d",
   "metadata": {},
   "outputs": [],
   "source": [
    "classifiers = [ rf_tuned,\n",
    "                lgbm_tuned,\n",
    "                catb_tuned]\n",
    "\n",
    "# Define a result table as a DataFrame\n",
    "result_table = pd.DataFrame(columns=['classifiers', 'fpr','tpr','auc'])\n",
    "\n",
    "# Train the models and record the results\n",
    "for cls in classifiers:\n",
    "    yproba = cls.predict_proba(X_test_importance)[::,1]\n",
    "\n",
    "    fpr, tpr, _ = roc_curve(y_test,  yproba)\n",
    "    auc = roc_auc_score(y_test, yproba)\n",
    "\n",
    "    result_table = result_table.append({'classifiers':cls.__class__.__name__,\n",
    "                                        'fpr':fpr,\n",
    "                                        'tpr':tpr,\n",
    "                                        'auc':auc}, ignore_index=True)\n",
    "\n",
    "# Set name of the classifiers as index labels\n",
    "result_table.set_index('classifiers', inplace=True)\n",
    "result_table.sort_values('auc',ascending=False,inplace=True)"
   ]
  },
  {
   "cell_type": "code",
   "execution_count": null,
   "id": "4b1862b9",
   "metadata": {},
   "outputs": [],
   "source": [
    "fig = plt.figure(figsize=(10,6))\n",
    "\n",
    "for i in result_table.index:\n",
    "    plt.plot(result_table.loc[i]['fpr'],\n",
    "             result_table.loc[i]['tpr'],\n",
    "             label=\"{}, AUC={:.3f}\".format(i, result_table.loc[i]['auc']))\n",
    "\n",
    "plt.plot([0,1], [0,1], color='black', linestyle='--')\n",
    "\n",
    "plt.xticks(np.arange(0.0, 1.1, step=0.1))\n",
    "plt.xlabel(\"False Positive Rate\", fontsize=14)\n",
    "\n",
    "plt.yticks(np.arange(0.0, 1.1, step=0.1))\n",
    "plt.ylabel(\"True Positive Rate\", fontsize=14)\n",
    "\n",
    "plt.title('ROC Curve Analysis', fontweight='bold', fontsize=15)\n",
    "plt.legend(prop={'size':10}, loc='lower right')\n",
    "\n",
    "plt.show()"
   ]
  },
  {
   "cell_type": "code",
   "execution_count": null,
   "id": "0bae6bd2",
   "metadata": {},
   "outputs": [],
   "source": [
    "def test_scores(y_actual, y_pred, thresh):\n",
    "\n",
    "    auc = roc_auc_score(y_actual, y_pred)\n",
    "    accuracy = accuracy_score(y_actual, (y_pred > thresh))\n",
    "    recall = recall_score(y_actual, (y_pred > thresh))\n",
    "\n",
    "    return auc, accuracy, recall\n",
    "\n",
    "\n",
    "classifiers = [ rf_tuned,\n",
    "                lgbm_tuned,\n",
    "                catb_tuned]\n",
    "\n",
    "# Define a result table as a DataFrame\n",
    "test_result = pd.DataFrame(columns=['classifiers', 'accuracy','recall','auc'])\n",
    "\n",
    "# Train the models and record the results\n",
    "for cls in classifiers:\n",
    "    y_test_preds = cls.predict_proba(X_test_importance)[:,1]\n",
    "\n",
    "    test_auc, test_accuracy, test_recall = test_scores(y_test,y_test_preds, 0.5) # thresh = 0.5\n",
    "\n",
    "    test_result = test_result.append({'classifiers':cls.__class__.__name__,\n",
    "                                        'accuracy':test_accuracy,\n",
    "                                        'recall':test_recall,\n",
    "                                        'auc':test_auc}, ignore_index=True)\n",
    "\n",
    "\n",
    "# Set name of the classifiers as index labels\n",
    "test_result.set_index('classifiers', inplace=True)\n",
    "test_result.sort_values('auc',ascending=False,inplace=True)"
   ]
  },
  {
   "cell_type": "code",
   "execution_count": null,
   "id": "fc92edf5",
   "metadata": {},
   "outputs": [],
   "source": [
    "test_result"
   ]
  },
  {
   "cell_type": "code",
   "execution_count": null,
   "id": "916bb51a",
   "metadata": {},
   "outputs": [],
   "source": [
    "import plotly.graph_objs as go\n",
    "\n",
    "trace1=go.Bar(\n",
    "                x=test_result.index,\n",
    "                y=test_result.accuracy,\n",
    "                name=\"Accuracy\",\n",
    "                marker= dict(color = 'rgba(100, 20, 30, 0.7)',\n",
    "                            line=dict(color='rgb(0,0,0)',width=1.9)),\n",
    "                text=round(test_result.accuracy,3),textposition='auto')\n",
    "trace2=go.Bar(\n",
    "                x=test_result.index,\n",
    "                y=test_result.recall,\n",
    "                name=\"Recall\",\n",
    "                marker=dict(color = 'rgba(56, 140, 200, 0.7)',\n",
    "                           line=dict(color='rgb(0,0,0)',width=1.9)),\n",
    "                text=round(test_result.recall,3),textposition='auto')\n",
    "trace3=go.Bar(\n",
    "                x=test_result.index,\n",
    "                y=test_result.auc,\n",
    "                name=\"AUC\",\n",
    "                marker=dict(color = 'rgba(120, 180, 20, 0.7)',\n",
    "                           line=dict(color='rgb(0,0,0)',width=1.9)),\n",
    "                text=round(test_result.auc,3),textposition='auto')\n",
    "\n",
    "edit_df=[trace1,trace2,trace3]\n",
    "layout = { 'barmode':'group',\n",
    "           'title_text':'Accuracy, Recall and AUC Plot Readmitted' }\n",
    "\n",
    "fig= go.Figure(data=edit_df,layout=layout)\n",
    "#plt.savefig('graph.png')\n",
    "fig.show()"
   ]
  },
  {
   "cell_type": "markdown",
   "id": "169e1109",
   "metadata": {},
   "source": [
    "# <a id=\"8\"></a>8. Prediction Result"
   ]
  },
  {
   "cell_type": "markdown",
   "id": "182b5f31",
   "metadata": {},
   "source": [
    "## Model Selection: Best Classifier"
   ]
  },
  {
   "cell_type": "code",
   "execution_count": null,
   "id": "fc9535fb",
   "metadata": {},
   "outputs": [],
   "source": [
    "best_model = catb_tuned\n",
    "\n",
    "y_train_preds = best_model.predict_proba(X_train_importance)[:,1]\n",
    "y_valid_preds = best_model.predict_proba(X_val_importance)[:,1]\n",
    "y_test_preds = best_model.predict_proba(X_test_importance)[:,1]"
   ]
  },
  {
   "cell_type": "code",
   "execution_count": null,
   "id": "303cee63",
   "metadata": {},
   "outputs": [],
   "source": [
    "thresh = 0.5\n",
    "\n",
    "print('Training:')\n",
    "train_auc, train_accuracy, train_recall, train_precision, train_fscore, train_specificity = print_report(y_train,y_train_preds, thresh)\n",
    "print('Validation:')\n",
    "val_auc, val_accuracy, val_recall, val_precision, val_fscore,val_specificity = print_report(y_val,y_val_preds, thresh)\n",
    "print('Test:')\n",
    "test_auc, test_accuracy, test_recall, test_precision, test_fscore, test_specificity = print_report(y_test,y_test_preds, thresh)"
   ]
  },
  {
   "cell_type": "code",
   "execution_count": null,
   "id": "917e71f6",
   "metadata": {},
   "outputs": [],
   "source": [
    "from sklearn.metrics import roc_curve\n",
    "\n",
    "fpr_train, tpr_train, thresholds_train = roc_curve(y_train, y_train_preds)\n",
    "auc_train = roc_auc_score(y_train, y_train_preds)\n",
    "\n",
    "fpr_val, tpr_val, thresholds_val = roc_curve(y_val, y_val_preds)\n",
    "auc_val = roc_auc_score(y_val, y_val_preds)\n",
    "\n",
    "fpr_test, tpr_test, thresholds_test = roc_curve(y_test, y_test_preds)\n",
    "auc_test = roc_auc_score(y_test, y_test_preds)\n",
    "\n",
    "fig, ax = plt.subplots(figsize=(10,6))\n",
    "plt.plot(fpr_train, tpr_train, 'r-',label ='Train AUC:%.3f'%auc_train)\n",
    "plt.plot(fpr_val, tpr_val, 'b-',label ='Valid AUC:%.3f'%auc_val)\n",
    "plt.plot(fpr_test, tpr_test, 'g-',label ='Test AUC:%.3f'%auc_test)\n",
    "plt.plot([0,1],[0,1],'k--')\n",
    "plt.xlabel('False Positive Rate')\n",
    "plt.ylabel('True Positive Rate')\n",
    "plt.legend()\n",
    "plt.show()"
   ]
  },
  {
   "cell_type": "markdown",
   "id": "469c6d9b",
   "metadata": {},
   "source": [
    "# <a id=\"9\"></a>9. Conclusion\n",
    "\n",
    "Based on the Auc results observed in the best classifier train, validation and test set results. It was observed that the best model was Catboost. The test result was almost %67 succesful. it was concluded that %67 of the patients who returned to the patient within 30 days returned and predicted correctly."
   ]
  },
  {
   "cell_type": "markdown",
   "id": "8b35835d",
   "metadata": {},
   "source": [
    "# <a id=\"10\"></a>10. References\n",
    "\n",
    "* https://www.kaggle.com/iabhishekofficial/prediction-on-hospital-readmission\n",
    "* https://github.com/andrewwlong/diabetes_readmission"
   ]
  },
  {
   "cell_type": "markdown",
   "id": "bfc6434a",
   "metadata": {},
   "source": [
    "### <p style='font-weight:bold;color:#123456'><i>I hope you find this kernel useful. If you like it please do an upvote.</i><p>"
   ]
  }
 ],
 "metadata": {
  "language_info": {
   "name": "python"
  }
 },
 "nbformat": 4,
 "nbformat_minor": 5
}
